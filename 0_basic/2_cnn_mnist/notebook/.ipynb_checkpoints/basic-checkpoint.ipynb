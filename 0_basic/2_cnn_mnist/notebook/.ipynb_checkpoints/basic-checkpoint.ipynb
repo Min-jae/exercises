{
 "cells": [
  {
   "cell_type": "code",
   "execution_count": 7,
   "metadata": {},
   "outputs": [],
   "source": [
    "import torch\n",
    "import torch.nn as nn\n",
    "import torch.nn.functional as F\n",
    "import torch.optim as optim\n",
    "from torchvision.datasets import MNIST\n",
    "import torchvision.transforms as transforms\n",
    "import matplotlib.pyplot as plt\n"
   ]
  },
  {
   "cell_type": "code",
   "execution_count": 8,
   "metadata": {},
   "outputs": [],
   "source": [
    "''' load MNIST database '''\n",
    "transform = transforms.Compose([\n",
    "    transforms.ToTensor(),\n",
    "    transforms.Normalize((0.1307,), (0.3081,))\n",
    "])\n",
    "dataset_path = '../mnist_dataset'\n",
    "\n",
    "train_dataset = MNIST(dataset_path, transform=transform, train=True, download=True)\n",
    "valid_dataset = MNIST(dataset_path, transform=transform, train=False, download=True)\n",
    "test_dataset = MNIST(dataset_path, transform=transform, train=False, download=True)\n"
   ]
  },
  {
   "cell_type": "code",
   "execution_count": 9,
   "metadata": {},
   "outputs": [],
   "source": [
    "''' load MNIST dataset by using dataloader'''\n",
    "batch_size = 64\n",
    "\n",
    "train_loader = torch.utils.data.DataLoader(dataset=train_dataset,\n",
    "                         batch_size=batch_size,\n",
    "                         shuffle=True)\n",
    "test_loader = torch.utils.data.DataLoader(dataset=test_dataset,\n",
    "                         batch_size=1,\n",
    "                         shuffle=False)\n"
   ]
  },
  {
   "cell_type": "code",
   "execution_count": 10,
   "metadata": {},
   "outputs": [
    {
     "name": "stdout",
     "output_type": "stream",
     "text": [
      "938\n",
      "torch.Size([64, 1, 28, 28]) torch.Size([64])\n",
      "torch.Size([64, 1, 28, 28]) torch.Size([64])\n",
      "torch.Size([64, 1, 28, 28]) torch.Size([64])\n",
      "torch.Size([64, 1, 28, 28]) torch.Size([64])\n",
      "torch.Size([64, 1, 28, 28]) torch.Size([64])\n",
      "torch.Size([64, 1, 28, 28]) torch.Size([64])\n",
      "torch.Size([64, 1, 28, 28]) torch.Size([64])\n",
      "torch.Size([64, 1, 28, 28]) torch.Size([64])\n",
      "torch.Size([64, 1, 28, 28]) torch.Size([64])\n"
     ]
    }
   ],
   "source": [
    "''' test data loader'''\n",
    "print(len(train_loader))\n",
    "for batch_idx, (image, label) in enumerate(train_loader):\n",
    "    if (batch_idx + 1) % 100 == 0:\n",
    "        print(image.shape, label.shape)\n"
   ]
  },
  {
   "cell_type": "code",
   "execution_count": 11,
   "metadata": {},
   "outputs": [
    {
     "name": "stdout",
     "output_type": "stream",
     "text": [
      "torch.Size([64, 1, 28, 28])\n",
      "torch.Size([64, 10]) torch.Size([64])\n"
     ]
    }
   ],
   "source": [
    "''' test implementation '''\n",
    "# prepare network input \n",
    "x_batch, y_batch = iter(train_loader).next()\n",
    "batch_size, n_chn, hor_dim, ver_dim = x_batch.size()\n",
    "\n",
    "x = x_batch.view(batch_size, -1)\n",
    "\n",
    "# define neural network \n",
    "fc1_dim = 128\n",
    "fc2_dim = 128\n",
    "out_dim = 10\n",
    "\n",
    "fc1 = nn.Linear(hor_dim * ver_dim, fc1_dim)\n",
    "fc2 = nn.Linear(fc1_dim, fc2_dim)\n",
    "fc3 = nn.Linear(fc2_dim, out_dim)\n",
    "\n",
    "x = F.relu(fc1(x))\n",
    "x = F.relu(fc2(x))\n",
    "x = fc3(x)\n",
    "\n",
    "print(x_batch.size())\n",
    "print(x.size(), y_batch.size())"
   ]
  },
  {
   "cell_type": "code",
   "execution_count": 17,
   "metadata": {},
   "outputs": [
    {
     "name": "stdout",
     "output_type": "stream",
     "text": [
      "MLP(\n",
      "  (fc1): Linear(in_features=784, out_features=128, bias=True)\n",
      "  (fc2): Linear(in_features=128, out_features=128, bias=True)\n",
      "  (fc3): Linear(in_features=128, out_features=10, bias=True)\n",
      ")\n"
     ]
    }
   ],
   "source": [
    "''' Model class definition '''\n",
    "class MLP(nn.Module):\n",
    "    def __init__(self, in_dim, fc1_dim, fc2_dim, out_dim):\n",
    "        super(MLP, self).__init__()\n",
    "        self.fc1 = nn.Linear(in_dim, fc1_dim)\n",
    "        self.fc2 = nn.Linear(fc1_dim, fc2_dim)\n",
    "        self.fc3 = nn.Linear(fc2_dim, out_dim)\n",
    "        \n",
    "    def forward(self, x):\n",
    "        x = x.view(-1, x.size(-3) * x.size(-2) * x.size(-1))\n",
    "        x = F.relu(self.fc1(x))\n",
    "        x = F.relu(self.fc2(x))\n",
    "        x = self.fc3(x)\n",
    "        return x\n",
    "\n",
    "model = MLP(28 * 28, 128, 128, 10)\n",
    "print(model)\n"
   ]
  },
  {
   "cell_type": "code",
   "execution_count": 18,
   "metadata": {},
   "outputs": [
    {
     "name": "stdout",
     "output_type": "stream",
     "text": [
      "CrossEntropyLoss() Adam (\n",
      "Parameter Group 0\n",
      "    amsgrad: False\n",
      "    betas: (0.9, 0.999)\n",
      "    eps: 1e-08\n",
      "    lr: 0.0001\n",
      "    weight_decay: 0\n",
      ")\n"
     ]
    }
   ],
   "source": [
    "''' Training criteria and optimizer definition '''\n",
    "criterion = nn.CrossEntropyLoss()\n",
    "optimizer = torch.optim.Adam(model.parameters(), lr=1e-4)\n",
    "print(criterion, optimizer)"
   ]
  },
  {
   "cell_type": "code",
   "execution_count": 21,
   "metadata": {},
   "outputs": [
    {
     "name": "stdout",
     "output_type": "stream",
     "text": [
      "Epoch: 1 \tTrain loss: 0.214300\n",
      "Epoch: 2 \tTrain loss: 0.218647\n",
      "Epoch: 3 \tTrain loss: 0.221142\n",
      "Epoch: 4 \tTrain loss: 0.215772\n",
      "Epoch: 5 \tTrain loss: 0.229090\n",
      "Epoch: 6 \tTrain loss: 0.233069\n"
     ]
    }
   ],
   "source": [
    "''' Train network '''\n",
    "num_epochs = 6\n",
    "model.train()\n",
    "\n",
    "for epoch in range(num_epochs):\n",
    "    loss_avg = 0.\n",
    "    for image, label in train_loader:\n",
    "        model_out = model(image)\n",
    "        loss = criterion(model_out, label)\n",
    "        loss.backward()\n",
    "        optimizer.step()\n",
    "        loss_avg += loss / len(train_loader)\n",
    "        \n",
    "    print('Epoch: {:} \\tTrain loss: {:.6f}'.format(\n",
    "        epoch+1, loss_avg))\n",
    "    "
   ]
  },
  {
   "cell_type": "code",
   "execution_count": 22,
   "metadata": {},
   "outputs": [
    {
     "name": "stdout",
     "output_type": "stream",
     "text": [
      "Test set: Accuracy: 0.93, Loss: 0.472214\n"
     ]
    }
   ],
   "source": [
    "''' Test model '''\n",
    "test_loss = 0.\n",
    "accuracy_total = 0\n",
    "model.eval()\n",
    "for image, label in test_loader:\n",
    "    # Evaluate loss\n",
    "    model_out = model(image)\n",
    "    loss = criterion(model_out, label)\n",
    "    test_loss += loss / len(test_loader)\n",
    "    \n",
    "    # Evaluate classification accuracy\n",
    "    _, pred = torch.max(model_out, dim=1)\n",
    "    accuracy = torch.sum((pred == label).float())\n",
    "    accuracy_total += accuracy / len(test_loader)\n",
    "    \n",
    "print('Test set: Accuracy: {:.2f}, Loss: {:.6f}'.format(\n",
    "    accuracy_total, test_loss))\n"
   ]
  }
 ],
 "metadata": {
  "kernelspec": {
   "display_name": "Python 3",
   "language": "python",
   "name": "python3"
  },
  "language_info": {
   "codemirror_mode": {
    "name": "ipython",
    "version": 3
   },
   "file_extension": ".py",
   "mimetype": "text/x-python",
   "name": "python",
   "nbconvert_exporter": "python",
   "pygments_lexer": "ipython3",
   "version": "3.7.5"
  }
 },
 "nbformat": 4,
 "nbformat_minor": 2
}
